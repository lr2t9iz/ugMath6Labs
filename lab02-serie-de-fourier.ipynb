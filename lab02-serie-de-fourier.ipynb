{
 "cells": [
  {
   "cell_type": "markdown",
   "metadata": {
    "id": "tMQ-VtBZspXh"
   },
   "source": [
    "![MAP1.png](https://drive.google.com/uc?export=view&id=19ytBPW5zxykG0PiXNe1TWr2t0fS5b-0-)\n",
    "\n",
    "\n"
   ]
  },
  {
   "cell_type": "markdown",
   "metadata": {
    "id": "SjBz1Comskok"
   },
   "source": [
    "# **Series de Fourier y Fenómeno de Gibbs**\n",
    "[![Open In Colab](https://colab.research.google.com/assets/colab-badge.svg)](https://colab.research.google.com/github/ivan-jgr/computacion-cientifica/blob/main/Laboratorios/Laboratorio-2.ipynb)\n",
    "\n",
    "Definimos la serie de Fourier de una función periódica $f$ de la siguiente forma:\n",
    "$$\\hat{f}(t) = a_0 + \\sum_{n=1}^\\infty \\left\\{ a_n \\cos( \\omega_n t) + b_n \\sin(\\omega_n t) \\right\\},$$\n",
    "\n",
    "donde $a_0 = \\displaystyle \\int_{-L}^L f(t) dt, \\quad a_n = \\displaystyle \\int_{-L}^L f(t) \\cos (\\omega_n t)dt \\quad \\text{y} \\quad b_n = \\displaystyle \\int_{-L}^L f(t) \\sin (\\omega_n t)dt$.\n",
    "\n",
    "Además, si truncamos la serie en $N$ obtenemos la suma parcial de la serie:\n",
    "$$S_N(t) = a_0 + \\sum_{n=1}^N \\left\\{ a_n \\cos( \\omega_n t) + b_n \\sin(\\omega_n t) \\right\\}.$$\n",
    "\n",
    "En este laboratorio utilizaremos esta suma parcial para aproximar funciones y comparar la función original con su aproximación como una suma parcial de una serie de Fourier."
   ]
  },
  {
   "cell_type": "markdown",
   "metadata": {
    "id": "SmOmag2mskom"
   },
   "source": [
    "## **Graficando funciones periódicas**\n",
    "\n",
    "Una forma sencilla de definir funciones periódicas en python es utilizando [decorators](https://realpython.com/primer-on-python-decorators/):\n",
    "\n",
    "```python\n",
    "# Esta función nos permite \"extender\" de forma periódica una\n",
    "# función definida en [a, b]\n",
    "def extension_periodica(a, b):\n",
    "    T = b - a\n",
    "    return lambda f: lambda x: f((x - a) % T + a)\n",
    "\n",
    "# Aplicamos el decorator a f para hacerla periódica.\n",
    "@extension_periodica(-1, 1)\n",
    "def f(x):\n",
    "    return x\n",
    "```\n",
    "\n",
    "<ins> **Problema 1** </ins>\n",
    "\n",
    "Defina las siguientes funciones periódicas y grafíquelas en el intervalo $[-3T, 3T]$.\n",
    " - La función de onda cuadrada:\n",
    " $f(t) = \\left\\{ \\begin{array}{ll} 0, & -\\frac{1}{2} < t < - \\frac{1}{4} \\\\ 1, & -\\frac{1}{4} < t < \\frac{1}{4} \\\\ 0, & \\frac{1}{4} < t < \\frac{1}{2} \\end{array} \\right.$, definida en $\\left[ -\\frac{1}{2}, \\frac{1}{2} \\right]$\n",
    " - La función diente de sierra, $f(t) = t$ definida en $[-1, 1]$.\n",
    " - La función rectificador de onda completa del $\\sin t$, $f(t) = | \\sin (t - \\frac{\\pi}{2}) |$ definida en $[-\\frac{\\pi}{2}, \\frac{\\pi}{2}]$.\n"
   ]
  },
  {
   "cell_type": "code",
   "execution_count": null,
   "metadata": {
    "id": "rY_Y82tWskon"
   },
   "outputs": [],
   "source": [
    "# Pi es una constante definida en numpy\n",
    "from numpy import pi\n",
    "\n",
    "# Resuelva aquí el problema 1\n"
   ]
  },
  {
   "cell_type": "code",
   "execution_count": null,
   "metadata": {
    "id": "L7-juBOFskoo"
   },
   "outputs": [],
   "source": [
    "# Grafique la función de onda cuadrada"
   ]
  },
  {
   "cell_type": "code",
   "execution_count": null,
   "metadata": {
    "id": "gLaZImzTskop"
   },
   "outputs": [],
   "source": [
    "# Grafique la función diente de sierra"
   ]
  },
  {
   "cell_type": "code",
   "execution_count": null,
   "metadata": {
    "id": "6SwiKLHBskop"
   },
   "outputs": [],
   "source": [
    "# Grafique la función rectificador de onda completa"
   ]
  },
  {
   "cell_type": "markdown",
   "metadata": {
    "id": "nxdHE223skoq"
   },
   "source": [
    "## **Calculando Series de Fourier**\n",
    "\n",
    "<ins>**Problema 2**</ins>\n",
    "\n",
    "a) Implemente las funciones `fourier_a0(f, L)`, `fourier_an(f, L, n)` y `fourier_bn(f, L, n)` que calculan los coeficientes de Fourier para una función `f`.\n",
    "\n",
    "b). Escriba una función `fourier_suma_parcial(f, L, N)` que le devuelva la N-ésima suma parcial de Fourier como una función.\n",
    "\n",
    "c) Utilíce la `fourier_suma_parcial(f, L, N)` para graficar la funcion y su suma parcial de Fourier para cada una de las funciones del problema 1."
   ]
  },
  {
   "cell_type": "code",
   "execution_count": null,
   "metadata": {
    "id": "fcZ1yo8Cskor"
   },
   "outputs": [],
   "source": [
    "# Resuelva aquí el problema 2\n",
    "\n",
    "# Librería para realizar integrales de forma numerica\n",
    "from scipy.integrate import quad\n",
    "# Pi es una constante definida en numpy\n",
    "from numpy import pi\n",
    "# Para ignorar los warnings\n",
    "import warnings\n",
    "warnings.filterwarnings(\"ignore\")\n",
    "\n",
    "\n",
    "def fourier_a0(f, L):\n",
    "    pass\n",
    "\n",
    "def fourier_an(f, L, n):\n",
    "    pass\n",
    "\n",
    "def fourier_bn(f, L, n):\n",
    "    pass\n",
    "\n",
    "\n",
    "def fourier_suma_parcial(f, L, N):\n",
    "    pass"
   ]
  },
  {
   "cell_type": "code",
   "execution_count": null,
   "metadata": {
    "id": "faELPPGsskos"
   },
   "outputs": [],
   "source": [
    "# Grafique la función de onda cuadrada y la suma parcial de su serie en el intervalo [-1, 1]"
   ]
  },
  {
   "cell_type": "code",
   "execution_count": null,
   "metadata": {
    "id": "nvgmq0pMskot"
   },
   "outputs": [],
   "source": [
    "# Grafique la función diente de sierra y la suma parcial de su serie en el intervalo [-2, 2]"
   ]
  },
  {
   "cell_type": "code",
   "execution_count": null,
   "metadata": {
    "id": "IkEYAeTeskot"
   },
   "outputs": [],
   "source": [
    "# Grafique la función rectificador de onda completa y la suma parcial de su serie en el intervalo [-pi, pi]"
   ]
  },
  {
   "cell_type": "markdown",
   "metadata": {
    "id": "X0DVKnr0skou"
   },
   "source": [
    "!Hagamoslo de forma interactiva!\n",
    "Puede usar el *decorator* `@interact` para generar gráficas de forma interactiva."
   ]
  },
  {
   "cell_type": "code",
   "execution_count": null,
   "metadata": {
    "id": "Sf3Vd9YBskou"
   },
   "outputs": [],
   "source": [
    "import ipywidgets as widgets\n",
    "from ipywidgets import interact, interact_manual\n",
    "from matplotlib import rcParams\n",
    "rcParams['figure.figsize'] = 12, 6\n",
    "\n",
    "# Máximo numero de términos para la serie\n",
    "Nmax = 30\n",
    "# Calculamos todas las sumas parciales \n",
    "sumas_parciales = [fourier_suma_parcial(onda_cuadrada, 1/2, n) for n in range(1, Nmax+1)]\n",
    "\n",
    "# Graficaremos en el intervalo [-1, 1]\n",
    "t = np.linspace(-1, 1, 500)\n",
    "sumas_parciales = [s(t) for s in sumas_parciales]\n",
    "onda_cuadrada_vec = np.vectorize(onda_cuadrada)(t)\n",
    "\n",
    "@interact\n",
    "def plot_fourier_suma(N=(1, Nmax, 1)):\n",
    "    plt.clf()\n",
    "    plt.grid()\n",
    "    plt.plot(t, sumas_parciales[N-1], label='$S_N$')\n",
    "    plt.plot(t, onda_cuadrada_vec, label='$f$')\n",
    "    plt.xlabel('$t$')\n",
    "    plt.legend()"
   ]
  },
  {
   "cell_type": "code",
   "execution_count": null,
   "metadata": {
    "id": "hGL0Wn6iskou"
   },
   "outputs": [],
   "source": [
    "# Máximo numero de términos para la serie\n",
    "Nmax = 30\n",
    "# Calculamos todas las sumas parciales \n",
    "sumas_parciales = [fourier_suma_parcial(diente_sierra, 1, n) for n in range(1, Nmax+1)]\n",
    "\n",
    "# Graficaremos en el intervalo [-2, 2]\n",
    "t = np.linspace(-2, 2, 500)\n",
    "sumas_parciales = [s(t) for s in sumas_parciales]\n",
    "diente_sierra_vec = np.vectorize(diente_sierra)(t)\n",
    "\n",
    "@interact\n",
    "def plot_fourier_suma(N=(1, Nmax, 1)):\n",
    "    plt.clf()\n",
    "    plt.grid()\n",
    "    plt.plot(t, sumas_parciales[N-1], label='$S_N$')\n",
    "    plt.plot(t, diente_sierra_vec, label='$f$')\n",
    "    plt.xlabel('$t$')\n",
    "    plt.legend()"
   ]
  },
  {
   "cell_type": "code",
   "execution_count": null,
   "metadata": {
    "id": "GrzlEu3Wskov"
   },
   "outputs": [],
   "source": [
    "# Máximo numero de términos para la serie\n",
    "Nmax = 30\n",
    "# Calculamos todas las sumas parciales \n",
    "sumas_parciales = [fourier_suma_parcial(rectificador, pi, n) for n in range(1, Nmax+1)]\n",
    "\n",
    "# Graficaremos en el intervalo [-2, 2]\n",
    "t = np.linspace(-2*pi, 2*pi, 500)\n",
    "sumas_parciales = [s(t) for s in sumas_parciales]\n",
    "rectificador_vec = np.vectorize(rectificador)(t)\n",
    "\n",
    "@interact\n",
    "def plot_fourier_suma(N=(1, Nmax, 1)):\n",
    "    plt.clf()\n",
    "    plt.grid()\n",
    "    plt.plot(t, sumas_parciales[N-1], label='$S_N$')\n",
    "    plt.plot(t, rectificador_vec, label='$f$')\n",
    "    plt.xlabel('$t$')\n",
    "    plt.legend()"
   ]
  },
  {
   "cell_type": "markdown",
   "metadata": {
    "id": "BQvaP8wrskov"
   },
   "source": [
    "##**Espectro de Magnitud de una Serie de Fourier**\n",
    "\n",
    "<ins>**Problema 3**</ins>\n",
    "\n",
    "1. Escriba la función `espectro_magnitud(f, N)` que grafique la **magnitud** $\\sqrt{a_n^2 + b_n^2}$ de los primeros `N` coeficientes de Fourier de `f` en función de la frecuencia (en Hz). Debe generar una gráfica como la siguiente:\n",
    "<img src=\"https://github.com/ivan-jgr/computacion-cientifica/blob/main/misc/spectrum.png?raw=true\"/>\n",
    "\n",
    "Puede serle útil consular la documentación de `plt.stem`: https://matplotlib.org/stable/gallery/lines_bars_and_markers/stem_plot.html#sphx-glr-gallery-lines-bars-and-markers-stem-plot-py\n",
    "\n",
    "2. Grafique el espectro de magnitud para las funciones periódicas del problema 1 (*diente de sierra, onda cuadrada y rectificador*)."
   ]
  },
  {
   "cell_type": "code",
   "execution_count": null,
   "metadata": {
    "id": "-2YDSKOFskow"
   },
   "outputs": [],
   "source": [
    "# Resuelva aquí el problema 3\n",
    "\n",
    "def espectro_magnitud(f, L, N):\n",
    "    pass"
   ]
  },
  {
   "cell_type": "code",
   "execution_count": null,
   "metadata": {
    "id": "SW2IPQNqskow"
   },
   "outputs": [],
   "source": [
    "# Grafique el espectro de magnitud de la función onda cuadrada"
   ]
  },
  {
   "cell_type": "code",
   "execution_count": null,
   "metadata": {
    "id": "cd3sip0zskow"
   },
   "outputs": [],
   "source": [
    "# Grafique el espectro de magnitud de la función diente de sierra"
   ]
  },
  {
   "cell_type": "code",
   "execution_count": null,
   "metadata": {
    "id": "uloKbLt8skow"
   },
   "outputs": [],
   "source": [
    "# Grafique el espectro de magnitud de la función rectificador"
   ]
  },
  {
   "cell_type": "markdown",
   "metadata": {
    "id": "X274MKicskow"
   },
   "source": [
    "## **Fenómeno de Gibbs**\n",
    "\n",
    "\n",
    "El fenómeno de Gibbs es la forma peculiar en la que la serie de Fourier se comporta en una discontinuidad por salto. La suma parcial de la serie de Fourier tiene oscilaciones cerca del salto.\n",
    "\n",
    "<img src=\"https://github.com/ivan-jgr/computacion-cientifica/blob/main/misc/gibbs.png?raw=true\" />\n",
    "\n",
    "\n",
    "<ins> **Problema 4** </ins>\n",
    "\n",
    "La aproxación sigma permite ajustar la serie de Fourier de una función para reducir el fenómeno de Gibbs. La aproximación sigma de $f$ se define de la siguiente forma:\n",
    "\n",
    "$$\\hat{f}(\\theta) = a_0 + \\sum _{n=1}^{N-1}\n",
    "\\operatorname{sinc} \\Bigl( \\frac{n}{N} \\Bigr) \\cdot\n",
    "\\left[ a_n \\cos \\Bigl( \\frac{n \\pi\\theta }{L} \\Bigr)\n",
    "+ b_n \\sin \\Bigl( \\frac{n \\pi \\theta}{L} \\Bigr) \\right],$$\n",
    "\n",
    "donde $a_0, a_n$ y $b_n$ son los coeficientes de Fourier y $\\operatorname{sinc}$ es la función seno cardinal:\n",
    "$$\\operatorname{sinc}(x) = \\dfrac{\\sin(\\pi x)}{ \\pi x}.$$\n",
    "\n",
    "Implemente la función `aproximacion_sigma(f, L, N)` que genere la aproximación sigma de una función. En python puede encontrar la función $sinc$ en la librería numpy: `np.sinc`.\n",
    "\n",
    "Compare la aproximación sigma y la suma parcial de Fourier para las funciones *diente de sierra* y *onda cuadrada* y compare ambas aproximaciones."
   ]
  },
  {
   "cell_type": "code",
   "execution_count": null,
   "metadata": {
    "id": "YFqD88KVskow"
   },
   "outputs": [],
   "source": [
    "def aproximacion_sigma(f, L, N):\n",
    "    \"\"\"\n",
    "    Calcula la aproximación sigma de la función f\n",
    "    :param f: es la función a la que se le calcula la aproximación sigma\n",
    "    :param L: es el semiperíodo de la función\n",
    "    :param N: es el límite superior de la suma\n",
    "    \"\"\"\n",
    "    pass"
   ]
  },
  {
   "cell_type": "code",
   "execution_count": null,
   "metadata": {
    "id": "PlGEP2e8skox"
   },
   "outputs": [],
   "source": [
    "from matplotlib import rcParams\n",
    "rcParams['axes.grid'] = True\n",
    "rcParams['figure.figsize'] = 20, 10\n",
    "\n",
    "# Comparamos la aproximación sigma y la suma parcial de la serie original\n",
    "N0 = 20\n",
    "suma_parcial_original = fourier_suma_parcial(onda_cuadrada, 1/2, N0)\n",
    "suma_parcial_aprox_sigma = aproximacion_sigma(onda_cuadrada, 2/2, N0)\n",
    "\n",
    "t = np.linspace(-1, 1, 300)\n",
    "#### Fila 1, Columna 1 ###\n",
    "plt.subplot(2, 2, 1)\n",
    "plt.plot(t, np.vectorize(onda_cuadrada)(t), linestyle='--')\n",
    "plt.plot(t, suma_parcial_original(t))\n",
    "\n",
    "### Fila 1, Columna 2 ###\n",
    "plt.subplot(2, 2, 2)\n",
    "plt.plot(t, np.vectorize(onda_cuadrada)(t), linestyle='--')\n",
    "plt.plot(t, suma_parcial_aprox_sigma(t))\n",
    "\n",
    "### Fila 2, Columna 1\n",
    "t = np.linspace(0.2, 0.3, 300)\n",
    "plt.subplot(2, 2, 3)\n",
    "plt.plot(t, np.vectorize(onda_cuadrada)(t), linestyle='--')\n",
    "plt.plot(t, suma_parcial_original(t))\n",
    "\n",
    "### Fila 2, Columna 2\n",
    "t = np.linspace(0.2, 0.3, 300)\n",
    "plt.subplot(2, 2, 4)\n",
    "plt.plot(t, np.vectorize(onda_cuadrada)(t), linestyle='--')\n",
    "plt.plot(t, suma_parcial_aprox_sigma(t))\n",
    "\n",
    "plt.show()\n"
   ]
  },
  {
   "cell_type": "code",
   "execution_count": null,
   "metadata": {
    "id": "9iWEhOvkskox"
   },
   "outputs": [],
   "source": [
    "from matplotlib import rcParams\n",
    "rcParams['axes.grid'] = True\n",
    "rcParams['figure.figsize'] = 20, 10\n",
    "\n",
    "# Comparamos la aproximación sigma y la suma parcial de la serie original\n",
    "N0 = 20\n",
    "suma_parcial_original = fourier_suma_parcial(diente_sierra, 1, N0)\n",
    "suma_parcial_aprox_sigma = aproximacion_sigma(diente_sierra, 1, N0)\n",
    "\n",
    "t = np.linspace(-2, 2, 300)\n",
    "#### Fila 1, Columna 1 ###\n",
    "plt.subplot(2, 2, 1)\n",
    "plt.plot(t, np.vectorize(diente_sierra)(t), linestyle='--')\n",
    "plt.plot(t, suma_parcial_original(t))\n",
    "\n",
    "### Fila 1, Columna 2 ###\n",
    "plt.subplot(2, 2, 2)\n",
    "plt.plot(t, np.vectorize(diente_sierra)(t), linestyle='--')\n",
    "plt.plot(t, suma_parcial_aprox_sigma(t))\n",
    "\n",
    "### Fila 2, Columna 1\n",
    "t = np.linspace(0.5, 1.5, 300)\n",
    "plt.subplot(2, 2, 3)\n",
    "plt.plot(t, np.vectorize(diente_sierra)(t), linestyle='--')\n",
    "plt.plot(t, suma_parcial_original(t))\n",
    "\n",
    "### Fila 2, Columna 2\n",
    "t = np.linspace(0.8, 1.2, 300)\n",
    "plt.subplot(2, 2, 4)\n",
    "plt.plot(t, np.vectorize(diente_sierra)(t), linestyle='--')\n",
    "plt.plot(t, suma_parcial_aprox_sigma(t))\n",
    "\n",
    "plt.show()"
   ]
  },
  {
   "cell_type": "markdown",
   "metadata": {
    "id": "rwWD2lXpskox"
   },
   "source": [
    "<hr>\n",
    "\n",
    "# **Instrucciones Generales**\n",
    "1. Este laboratorio será realizado de manera *individual*.\n",
    "2. **Fecha de entrega**: Jueves 05 de Agosto de 2021. Su solución debe subirla en un archivo ZIP enviado por GES y debe contener el archivo .ipynb con sus respuesta a cada inciso solicitado en cada uno de los *Problemas* indicados en la parte superior."
   ]
  }
 ],
 "metadata": {
  "colab": {
   "name": "Laboratorio_2.ipynb",
   "provenance": [],
   "toc_visible": true
  },
  "kernelspec": {
   "display_name": "Python 3",
   "language": "python",
   "name": "python3"
  },
  "language_info": {
   "codemirror_mode": {
    "name": "ipython",
    "version": 3
   },
   "file_extension": ".py",
   "mimetype": "text/x-python",
   "name": "python",
   "nbconvert_exporter": "python",
   "pygments_lexer": "ipython3",
   "version": "3.8.8"
  }
 },
 "nbformat": 4,
 "nbformat_minor": 1
}
